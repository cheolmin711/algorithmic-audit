{
 "cells": [
  {
   "cell_type": "code",
   "execution_count": 1,
   "metadata": {},
   "outputs": [],
   "source": [
    "import numpy as np\n",
    "import pandas as pd\n",
    "import matplotlib.pyplot as plt"
   ]
  },
  {
   "cell_type": "code",
   "execution_count": 2,
   "metadata": {},
   "outputs": [],
   "source": [
    "sd_cleaned = pd.read_csv('sd_cleaned.csv')"
   ]
  },
  {
   "cell_type": "markdown",
   "metadata": {},
   "source": [
    "# Construction of a Fair Classifier in Search-to-Contraband-Finding Ratio"
   ]
  },
  {
   "cell_type": "markdown",
   "metadata": {},
   "source": [
    "### Cheolmin Hwang"
   ]
  },
  {
   "cell_type": "markdown",
   "metadata": {},
   "source": [
    "From the previous inspection of police stoppings in San Diego, I was able to observe significant discrepancies in the rates of contraband discovery upon search among different racial groups. From the simulation, It was shown that such a discrepancy was impossible to have happened from mere chance. By utilizing inframarginality and threshold testing, I will look deeper into the decision making of searches being decided to be conducted. I will also build a classifier that is more fair than the ones built on raw data from the insights I gain from these two methods that ensures fairness among different racial groups and the two sexes.\n",
    "\n",
    "In continuation from the first assignment, we define search accuracy to be the rate that a contraband is found when a vehicle is searched, denoting how accurate the police's decision to decide to conduct a search in the first place was. Thus, we assume that the searches of the poice officers, or the standards that enforce them to search are supposed to indicate a contraband."
   ]
  },
  {
   "cell_type": "markdown",
   "metadata": {},
   "source": [
    "## Data Cleaning\n",
    "\n",
    "First, since the focal point of fairness will be on the ratio of among the the vehicles that were searched how many vehicles were containing a contraband. Thus, we use the dataset that was cleaned in the same fashion when we examined for an inequality earlier. We eradicate all data points that do not consist of the driver's race, sex, whether or not a search was conducted, and whether or not a contraband was found."
   ]
  },
  {
   "cell_type": "code",
   "execution_count": 3,
   "metadata": {},
   "outputs": [
    {
     "data": {
      "text/plain": [
       "Unnamed: 0                         0\n",
       "raw_row_number                     0\n",
       "date                               0\n",
       "time                              15\n",
       "service_area                       0\n",
       "subject_age                       68\n",
       "subject_race                       0\n",
       "subject_sex                        0\n",
       "type                               0\n",
       "arrest_made                       67\n",
       "citation_issued                  734\n",
       "warning_issued                   734\n",
       "outcome                         2210\n",
       "contraband_found                   0\n",
       "search_conducted                   0\n",
       "search_person                   2164\n",
       "search_vehicle                  2164\n",
       "search_basis                       0\n",
       "reason_for_search               1984\n",
       "reason_for_stop                    4\n",
       "raw_action_taken                 734\n",
       "raw_subject_race_description       0\n",
       "dtype: int64"
      ]
     },
     "execution_count": 3,
     "metadata": {},
     "output_type": "execute_result"
    }
   ],
   "source": [
    "sd = sd_cleaned.loc[sd_cleaned['subject_race'].notna()]\n",
    "sd = sd.loc[sd['subject_sex'].notna()]\n",
    "sd.isna().sum()"
   ]
  },
  {
   "cell_type": "code",
   "execution_count": 4,
   "metadata": {},
   "outputs": [
    {
     "data": {
      "text/plain": [
       "array(['hispanic', 'black', 'white', 'asian/pacific islander', 'other'],\n",
       "      dtype=object)"
      ]
     },
     "execution_count": 4,
     "metadata": {},
     "output_type": "execute_result"
    }
   ],
   "source": [
    "sd['subject_race'].unique()"
   ]
  },
  {
   "cell_type": "code",
   "execution_count": 5,
   "metadata": {},
   "outputs": [
    {
     "data": {
      "text/plain": [
       "array(['male', 'female'], dtype=object)"
      ]
     },
     "execution_count": 5,
     "metadata": {},
     "output_type": "execute_result"
    }
   ],
   "source": [
    "sd['subject_sex'].unique()"
   ]
  },
  {
   "cell_type": "code",
   "execution_count": 6,
   "metadata": {},
   "outputs": [
    {
     "data": {
      "text/plain": [
       "array([ True])"
      ]
     },
     "execution_count": 6,
     "metadata": {},
     "output_type": "execute_result"
    }
   ],
   "source": [
    "sd['search_conducted'].unique()"
   ]
  },
  {
   "cell_type": "code",
   "execution_count": 7,
   "metadata": {},
   "outputs": [
    {
     "data": {
      "text/plain": [
       "(1545, 22)"
      ]
     },
     "execution_count": 7,
     "metadata": {},
     "output_type": "execute_result"
    }
   ],
   "source": [
    "sd.loc[sd['contraband_found'] == True].shape"
   ]
  },
  {
   "cell_type": "code",
   "execution_count": 8,
   "metadata": {},
   "outputs": [
    {
     "data": {
      "text/plain": [
       "array([ True, False])"
      ]
     },
     "execution_count": 8,
     "metadata": {},
     "output_type": "execute_result"
    }
   ],
   "source": [
    "sd['contraband_found'].unique()"
   ]
  },
  {
   "cell_type": "markdown",
   "metadata": {},
   "source": [
    "We take a step further to include sex as a group dividing factor. Thus we divide the dataset into white male, white female, black male, black female, hispanic male, and hispanic female. We will examine the rates of search and the rates of contraband found among the searches. "
   ]
  },
  {
   "cell_type": "code",
   "execution_count": 9,
   "metadata": {},
   "outputs": [],
   "source": [
    "races = ['white', 'black', 'hispanic']\n",
    "sexes = ['male', 'female']\n",
    "\n",
    "labels = np.array([])\n",
    "search_accuracies = np.array([])\n",
    "\n",
    "for race in races:\n",
    "    for sex in sexes:\n",
    "        race_df = sd.loc[sd['subject_race'] == race]\n",
    "        race_sex = race_df.loc[race_df['subject_sex'] == sex]\n",
    "        row_search, col_search = race_sex.loc[race_sex['search_conducted'] == True].shape\n",
    "        row_contra, col_contra = race_sex.loc[race_sex['contraband_found'] == True].shape\n",
    "        search_accuracy = row_contra / row_search\n",
    "        label = race + \" \" + sex\n",
    "        search_accuracies = np.append(search_accuracies, search_accuracy)\n",
    "        labels = np.append(labels, label)"
   ]
  },
  {
   "cell_type": "code",
   "execution_count": 10,
   "metadata": {},
   "outputs": [
    {
     "data": {
      "text/html": [
       "<div>\n",
       "<style scoped>\n",
       "    .dataframe tbody tr th:only-of-type {\n",
       "        vertical-align: middle;\n",
       "    }\n",
       "\n",
       "    .dataframe tbody tr th {\n",
       "        vertical-align: top;\n",
       "    }\n",
       "\n",
       "    .dataframe thead th {\n",
       "        text-align: right;\n",
       "    }\n",
       "</style>\n",
       "<table border=\"1\" class=\"dataframe\">\n",
       "  <thead>\n",
       "    <tr style=\"text-align: right;\">\n",
       "      <th></th>\n",
       "      <th>search_accuracy</th>\n",
       "    </tr>\n",
       "  </thead>\n",
       "  <tbody>\n",
       "    <tr>\n",
       "      <th>white male</th>\n",
       "      <td>0.119745</td>\n",
       "    </tr>\n",
       "    <tr>\n",
       "      <th>white female</th>\n",
       "      <td>0.099057</td>\n",
       "    </tr>\n",
       "    <tr>\n",
       "      <th>black male</th>\n",
       "      <td>0.093916</td>\n",
       "    </tr>\n",
       "    <tr>\n",
       "      <th>black female</th>\n",
       "      <td>0.089820</td>\n",
       "    </tr>\n",
       "    <tr>\n",
       "      <th>hispanic male</th>\n",
       "      <td>0.083616</td>\n",
       "    </tr>\n",
       "    <tr>\n",
       "      <th>hispanic female</th>\n",
       "      <td>0.070588</td>\n",
       "    </tr>\n",
       "  </tbody>\n",
       "</table>\n",
       "</div>"
      ],
      "text/plain": [
       "                 search_accuracy\n",
       "white male              0.119745\n",
       "white female            0.099057\n",
       "black male              0.093916\n",
       "black female            0.089820\n",
       "hispanic male           0.083616\n",
       "hispanic female         0.070588"
      ]
     },
     "execution_count": 10,
     "metadata": {},
     "output_type": "execute_result"
    }
   ],
   "source": [
    "pd.DataFrame(data={'search_accuracy': search_accuracies}, index=labels)"
   ]
  },
  {
   "cell_type": "code",
   "execution_count": 11,
   "metadata": {},
   "outputs": [
    {
     "data": {
      "image/png": "[encoded data removed]",
      "text/plain": [
       "<Figure size 720x576 with 1 Axes>"
      ]
     },
     "metadata": {
      "needs_background": "light"
     },
     "output_type": "display_data"
    }
   ],
   "source": [
    "plt.figure(figsize=(10, 8))\n",
    "plt.bar(labels, search_accuracies)\n",
    "plt.title('Percentage of contraband found when vehicle was searched')\n",
    "plt.xlabel('Race and Gender')\n",
    "plt.ylabel('Percentage of vehicles found to carry contrabands')\n",
    "plt.show()"
   ]
  },
  {
   "cell_type": "markdown",
   "metadata": {},
   "source": [
    "## Model Construction\n",
    " \n",
    "The model that I build will be a Random Forest Classifier. Depending on the values of the attributes/features, the classifier will predict whether or not the driver will have a contraband. From the above results, we can clearly see that searches on white male drivers lead to the highest rate of finding a contraband upon search. Thus, we assume that they show the traits that are mostly likely to hold a contraband.\n",
    "\n",
    "We set the target variable (y) to be whether or not a contraband was found.\n",
    "We set the features (X) to be the features/columns that are information of the drivers that the police know before the searching is conducted. However, regardless of the correlation level, the race and sex features of a driver will be exempt, since our original attempt is to build a fair classifier that does not discriminate against the race and sex features of a driver."
   ]
  },
  {
   "cell_type": "markdown",
   "metadata": {},
   "source": [
    "Thus, we use the variables: search basis, subject age, reason for stop, reason for search, service area.\n",
    "We further drop all other variables because they are variables of actions taken after the search, or indirect descriptions of the driver's race, or are assigned numbers to datapoints that have no intuitive value."
   ]
  },
  {
   "cell_type": "markdown",
   "metadata": {},
   "source": [
    "Since there aren't as many blank holes in the age column, and there is a problem with filling them with dummy nans, empty age value data points will be dropped."
   ]
  },
  {
   "cell_type": "code",
   "execution_count": 12,
   "metadata": {},
   "outputs": [],
   "source": [
    "\n",
    "age_cleaned = sd[sd['subject_age'].notna()]\n",
    "X = age_cleaned[['search_basis', 'subject_age', 'reason_for_stop', 'reason_for_search', 'service_area']]\n",
    "y = age_cleaned['contraband_found']"
   ]
  },
  {
   "cell_type": "code",
   "execution_count": 13,
   "metadata": {},
   "outputs": [
    {
     "data": {
      "text/plain": [
       "search_basis            0\n",
       "subject_age             0\n",
       "reason_for_stop         4\n",
       "reason_for_search    1957\n",
       "service_area            0\n",
       "dtype: int64"
      ]
     },
     "execution_count": 13,
     "metadata": {},
     "output_type": "execute_result"
    }
   ],
   "source": [
    "X.isna().sum()"
   ]
  },
  {
   "cell_type": "code",
   "execution_count": 14,
   "metadata": {},
   "outputs": [],
   "source": [
    "X = X.fillna('na')"
   ]
  },
  {
   "cell_type": "code",
   "execution_count": 15,
   "metadata": {},
   "outputs": [
    {
     "data": {
      "text/plain": [
       "0"
      ]
     },
     "execution_count": 15,
     "metadata": {},
     "output_type": "execute_result"
    }
   ],
   "source": [
    "y.isna().sum()"
   ]
  },
  {
   "cell_type": "markdown",
   "metadata": {},
   "source": [
    "Transform categorical features (which are all of them except for age) through one-hot encoding. Then train the Random Forest classifier on the transformed features."
   ]
  },
  {
   "cell_type": "code",
   "execution_count": 16,
   "metadata": {},
   "outputs": [],
   "source": [
    "features_to_encode = ['search_basis', 'reason_for_stop', 'reason_for_search', 'service_area']\n",
    "\n",
    "from sklearn.preprocessing import OneHotEncoder\n",
    "from sklearn.compose import make_column_transformer\n",
    "\n",
    "col_trans = make_column_transformer((OneHotEncoder(),features_to_encode), remainder = \"passthrough\")"
   ]
  },
  {
   "cell_type": "code",
   "execution_count": 17,
   "metadata": {},
   "outputs": [],
   "source": [
    "from sklearn.ensemble import RandomForestClassifier\n",
    "\n",
    "rfc = RandomForestClassifier(min_samples_leaf=50, n_estimators=150, bootstrap=True, oob_score=True, n_jobs=-1, random_state=42, max_features='auto')"
   ]
  },
  {
   "cell_type": "code",
   "execution_count": 18,
   "metadata": {},
   "outputs": [
    {
     "data": {
      "text/plain": [
       "Pipeline(steps=[('columntransformer',\n",
       "                 ColumnTransformer(remainder='passthrough',\n",
       "                                   transformers=[('onehotencoder',\n",
       "                                                  OneHotEncoder(),\n",
       "                                                  ['search_basis',\n",
       "                                                   'reason_for_stop',\n",
       "                                                   'reason_for_search',\n",
       "                                                   'service_area'])])),\n",
       "                ('randomforestclassifier',\n",
       "                 RandomForestClassifier(min_samples_leaf=50, n_estimators=150,\n",
       "                                        n_jobs=-1, oob_score=True,\n",
       "                                        random_state=42))])"
      ]
     },
     "execution_count": 18,
     "metadata": {},
     "output_type": "execute_result"
    }
   ],
   "source": [
    "from sklearn.pipeline import make_pipeline\n",
    "\n",
    "pipe = make_pipeline(col_trans, rfc)\n",
    "pipe.fit(X, y)"
   ]
  },
  {
   "cell_type": "markdown",
   "metadata": {},
   "source": [
    "The classifier's accuracy on the overall population."
   ]
  },
  {
   "cell_type": "code",
   "execution_count": 19,
   "metadata": {},
   "outputs": [
    {
     "data": {
      "text/plain": [
       "0.9045999752689502"
      ]
     },
     "execution_count": 19,
     "metadata": {},
     "output_type": "execute_result"
    }
   ],
   "source": [
    "from sklearn.metrics import accuracy_score\n",
    "\n",
    "predictions = pipe.predict(X)\n",
    "accuracy_score(y, predictions)"
   ]
  },
  {
   "cell_type": "code",
   "execution_count": 20,
   "metadata": {},
   "outputs": [],
   "source": [
    "df = sd.copy()\n",
    "df = df[df['subject_age'].notna()]\n",
    "df = df.fillna('na')\n",
    "\n",
    "rfc_labels = np.array([])\n",
    "rfc_accuracy = np.array([])\n",
    "\n",
    "for race in races:\n",
    "    for sex in sexes:\n",
    "        race_df = df.loc[df['subject_race'] == race]\n",
    "        sex_df = race_df.loc[race_df['subject_sex'] == sex]\n",
    "        sample_X = sex_df[['search_basis', 'subject_age', 'reason_for_stop', 'reason_for_search', 'service_area']]\n",
    "        sample_y = sex_df['contraband_found']\n",
    "        pred = pipe.predict(sample_X)\n",
    "        label = race + \" \" + sex\n",
    "        rfc_labels = np.append(rfc_labels, label)\n",
    "        rfc_accuracy = np.append(rfc_accuracy, accuracy_score(sample_y, pred))"
   ]
  },
  {
   "cell_type": "code",
   "execution_count": 21,
   "metadata": {},
   "outputs": [
    {
     "data": {
      "image/png": "[encoded data removed]",
      "text/plain": [
       "<Figure size 720x576 with 1 Axes>"
      ]
     },
     "metadata": {
      "needs_background": "light"
     },
     "output_type": "display_data"
    }
   ],
   "source": [
    "plt.figure(figsize=(10, 8))\n",
    "plt.bar(rfc_labels, rfc_accuracy)\n",
    "plt.title('Classifier Prediction of Contraband')\n",
    "plt.xlabel('Race and Gender')\n",
    "plt.ylabel('Percentage of vehicles found to carry contrabands')\n",
    "plt.show()"
   ]
  },
  {
   "cell_type": "markdown",
   "metadata": {},
   "source": [
    "From the initial results, we can see that the classifier has significantly better accuracy at predicting a contraband when compared to the standard procedures that police officers are enforced to search vehicles in prediction of a contraband."
   ]
  },
  {
   "cell_type": "markdown",
   "metadata": {},
   "source": [
    "## Individual Fairness"
   ]
  },
  {
   "cell_type": "markdown",
   "metadata": {},
   "source": [
    "By implementing individual fairness mechanisms to the classifier, we wish to find out if the classifier is reliable enough to produce similar results for data points that input a similar feature set. It must be ensure that if people are being inspected due to probable cause or plain view, there should not be a difference in search results and accuracies by race and gender of the driver. Since the features used in the classifier are all categorical values, I will use the Jaccard similarity to measure the distances of the features and the outcomes."
   ]
  },
  {
   "cell_type": "markdown",
   "metadata": {},
   "source": [
    "It took way too long to compute the Jaccard similarity for the features of the entire dataset, so I will sample 1000."
   ]
  },
  {
   "cell_type": "code",
   "execution_count": 74,
   "metadata": {},
   "outputs": [],
   "source": [
    "# convert categorical values to numeric categories.\n",
    "\n",
    "num_df = df.copy()\n",
    "num_df['search_basis'] = num_df['search_basis'].replace({'probable cause': 4, 'other': 2, 'consent': 3, 'plain view': 5, 'k9': 1})\n",
    "num_df['reason_for_stop'] = num_df['reason_for_stop'].replace({'Moving Violation': 1, 'Equipment Violation': 2,\n",
    "       'Radio Call/Citizen Contact': 3, 'Personal Knowledge/Informant': 4,\n",
    "       'Muni, County, H&S Code': 5, 'Suspect Info (I.S., Bulletin, Log)': 6,\n",
    "       'Radio Call/Citizen Contact|Moving Violation': 3,\n",
    "       'Equipment Violation|Equipment Violation|Moving Violation': 2,\n",
    "       '&Moving Violation': 1, 'Suspect Info': 7, 'UNI, &County, H&&S Code': 5,\n",
    "       'Equipment Violation|Moving Violation': 2,\n",
    "       'Personal Observ/Knowledge': 7, 'na': 8, 'eEquipment Violation': 2, 'Other': 8,\n",
    "       '&Equipment Violation': 2, 'No Cause Specified on a Card': 8,\n",
    "       'Moving Violation|Suspect Info (I.S., Bulletin, Log)': 1,\n",
    "       'NOT MARKED': 8, 'MUNI, County, H&S Code': 5,\n",
    "       'Muni, County, H&S Code|Moving Violation': 5,\n",
    "       'Moving Violation|Equipment Violation': 1})\n",
    "num_df['service_area'] = num_df['service_area'].replace({'Unknown': 1, '310': 2, '810': 3, '320': 4, '240': 5, '830': 6, '820': 7, '440': 8, '110': 9,\n",
    "       '120': 10, '430': 11, '610': 12, '620': 13, '930': 14, '720': 15, '710': 16, '510': 17, '520': 18,\n",
    "       '230': 19, '630': 20, '530': 21, '840': 22, '130': 23})"
   ]
  },
  {
   "cell_type": "code",
   "execution_count": 78,
   "metadata": {},
   "outputs": [],
   "source": [
    "sampled = num_df.sample(1000, random_state=42)"
   ]
  },
  {
   "cell_type": "code",
   "execution_count": 79,
   "metadata": {},
   "outputs": [],
   "source": [
    "from scipy.spatial.distance import squareform, pdist, jaccard\n",
    "\n",
    "dist = pdist(sampled[['search_basis', 'reason_for_stop', 'service_area']], jaccard)\n",
    "squareform(dist)\n",
    "jaccard = pd.DataFrame(1-squareform(dist))"
   ]
  },
  {
   "cell_type": "code",
   "execution_count": 80,
   "metadata": {},
   "outputs": [
    {
     "data": {
      "text/html": [
       "<div>\n",
       "<style scoped>\n",
       "    .dataframe tbody tr th:only-of-type {\n",
       "        vertical-align: middle;\n",
       "    }\n",
       "\n",
       "    .dataframe tbody tr th {\n",
       "        vertical-align: top;\n",
       "    }\n",
       "\n",
       "    .dataframe thead th {\n",
       "        text-align: right;\n",
       "    }\n",
       "</style>\n",
       "<table border=\"1\" class=\"dataframe\">\n",
       "  <thead>\n",
       "    <tr style=\"text-align: right;\">\n",
       "      <th></th>\n",
       "      <th>0</th>\n",
       "      <th>1</th>\n",
       "      <th>2</th>\n",
       "      <th>3</th>\n",
       "      <th>4</th>\n",
       "      <th>5</th>\n",
       "      <th>6</th>\n",
       "      <th>7</th>\n",
       "      <th>8</th>\n",
       "      <th>9</th>\n",
       "      <th>...</th>\n",
       "      <th>990</th>\n",
       "      <th>991</th>\n",
       "      <th>992</th>\n",
       "      <th>993</th>\n",
       "      <th>994</th>\n",
       "      <th>995</th>\n",
       "      <th>996</th>\n",
       "      <th>997</th>\n",
       "      <th>998</th>\n",
       "      <th>999</th>\n",
       "    </tr>\n",
       "  </thead>\n",
       "  <tbody>\n",
       "    <tr>\n",
       "      <th>0</th>\n",
       "      <td>1.000000</td>\n",
       "      <td>0.000000</td>\n",
       "      <td>0.333333</td>\n",
       "      <td>0.333333</td>\n",
       "      <td>0.333333</td>\n",
       "      <td>0.000000</td>\n",
       "      <td>0.333333</td>\n",
       "      <td>0.333333</td>\n",
       "      <td>0.333333</td>\n",
       "      <td>0.333333</td>\n",
       "      <td>...</td>\n",
       "      <td>0.000000</td>\n",
       "      <td>0.000000</td>\n",
       "      <td>0.333333</td>\n",
       "      <td>0.333333</td>\n",
       "      <td>0.000000</td>\n",
       "      <td>0.000000</td>\n",
       "      <td>0.333333</td>\n",
       "      <td>0.0</td>\n",
       "      <td>0.333333</td>\n",
       "      <td>0.333333</td>\n",
       "    </tr>\n",
       "    <tr>\n",
       "      <th>1</th>\n",
       "      <td>0.000000</td>\n",
       "      <td>1.000000</td>\n",
       "      <td>0.000000</td>\n",
       "      <td>0.000000</td>\n",
       "      <td>0.333333</td>\n",
       "      <td>0.333333</td>\n",
       "      <td>0.333333</td>\n",
       "      <td>0.000000</td>\n",
       "      <td>0.000000</td>\n",
       "      <td>0.000000</td>\n",
       "      <td>...</td>\n",
       "      <td>0.000000</td>\n",
       "      <td>0.000000</td>\n",
       "      <td>0.000000</td>\n",
       "      <td>0.333333</td>\n",
       "      <td>0.666667</td>\n",
       "      <td>0.333333</td>\n",
       "      <td>0.333333</td>\n",
       "      <td>0.0</td>\n",
       "      <td>0.000000</td>\n",
       "      <td>0.333333</td>\n",
       "    </tr>\n",
       "    <tr>\n",
       "      <th>2</th>\n",
       "      <td>0.333333</td>\n",
       "      <td>0.000000</td>\n",
       "      <td>1.000000</td>\n",
       "      <td>0.333333</td>\n",
       "      <td>0.333333</td>\n",
       "      <td>0.000000</td>\n",
       "      <td>0.333333</td>\n",
       "      <td>0.333333</td>\n",
       "      <td>0.333333</td>\n",
       "      <td>0.333333</td>\n",
       "      <td>...</td>\n",
       "      <td>0.000000</td>\n",
       "      <td>0.000000</td>\n",
       "      <td>0.333333</td>\n",
       "      <td>0.333333</td>\n",
       "      <td>0.000000</td>\n",
       "      <td>0.000000</td>\n",
       "      <td>0.333333</td>\n",
       "      <td>0.0</td>\n",
       "      <td>0.333333</td>\n",
       "      <td>0.333333</td>\n",
       "    </tr>\n",
       "    <tr>\n",
       "      <th>3</th>\n",
       "      <td>0.333333</td>\n",
       "      <td>0.000000</td>\n",
       "      <td>0.333333</td>\n",
       "      <td>1.000000</td>\n",
       "      <td>0.333333</td>\n",
       "      <td>0.000000</td>\n",
       "      <td>0.333333</td>\n",
       "      <td>0.666667</td>\n",
       "      <td>0.666667</td>\n",
       "      <td>0.666667</td>\n",
       "      <td>...</td>\n",
       "      <td>0.333333</td>\n",
       "      <td>0.000000</td>\n",
       "      <td>0.666667</td>\n",
       "      <td>0.333333</td>\n",
       "      <td>0.000000</td>\n",
       "      <td>0.000000</td>\n",
       "      <td>0.666667</td>\n",
       "      <td>0.0</td>\n",
       "      <td>0.666667</td>\n",
       "      <td>0.333333</td>\n",
       "    </tr>\n",
       "    <tr>\n",
       "      <th>4</th>\n",
       "      <td>0.333333</td>\n",
       "      <td>0.333333</td>\n",
       "      <td>0.333333</td>\n",
       "      <td>0.333333</td>\n",
       "      <td>1.000000</td>\n",
       "      <td>0.333333</td>\n",
       "      <td>0.666667</td>\n",
       "      <td>0.333333</td>\n",
       "      <td>0.333333</td>\n",
       "      <td>0.333333</td>\n",
       "      <td>...</td>\n",
       "      <td>0.000000</td>\n",
       "      <td>0.000000</td>\n",
       "      <td>0.333333</td>\n",
       "      <td>0.666667</td>\n",
       "      <td>0.333333</td>\n",
       "      <td>0.333333</td>\n",
       "      <td>0.333333</td>\n",
       "      <td>0.0</td>\n",
       "      <td>0.333333</td>\n",
       "      <td>0.666667</td>\n",
       "    </tr>\n",
       "    <tr>\n",
       "      <th>...</th>\n",
       "      <td>...</td>\n",
       "      <td>...</td>\n",
       "      <td>...</td>\n",
       "      <td>...</td>\n",
       "      <td>...</td>\n",
       "      <td>...</td>\n",
       "      <td>...</td>\n",
       "      <td>...</td>\n",
       "      <td>...</td>\n",
       "      <td>...</td>\n",
       "      <td>...</td>\n",
       "      <td>...</td>\n",
       "      <td>...</td>\n",
       "      <td>...</td>\n",
       "      <td>...</td>\n",
       "      <td>...</td>\n",
       "      <td>...</td>\n",
       "      <td>...</td>\n",
       "      <td>...</td>\n",
       "      <td>...</td>\n",
       "      <td>...</td>\n",
       "    </tr>\n",
       "    <tr>\n",
       "      <th>995</th>\n",
       "      <td>0.000000</td>\n",
       "      <td>0.333333</td>\n",
       "      <td>0.000000</td>\n",
       "      <td>0.000000</td>\n",
       "      <td>0.333333</td>\n",
       "      <td>0.666667</td>\n",
       "      <td>0.333333</td>\n",
       "      <td>0.000000</td>\n",
       "      <td>0.333333</td>\n",
       "      <td>0.333333</td>\n",
       "      <td>...</td>\n",
       "      <td>0.333333</td>\n",
       "      <td>0.333333</td>\n",
       "      <td>0.000000</td>\n",
       "      <td>0.333333</td>\n",
       "      <td>0.333333</td>\n",
       "      <td>1.000000</td>\n",
       "      <td>0.000000</td>\n",
       "      <td>0.0</td>\n",
       "      <td>0.333333</td>\n",
       "      <td>0.333333</td>\n",
       "    </tr>\n",
       "    <tr>\n",
       "      <th>996</th>\n",
       "      <td>0.333333</td>\n",
       "      <td>0.333333</td>\n",
       "      <td>0.333333</td>\n",
       "      <td>0.666667</td>\n",
       "      <td>0.333333</td>\n",
       "      <td>0.000000</td>\n",
       "      <td>0.333333</td>\n",
       "      <td>0.666667</td>\n",
       "      <td>0.666667</td>\n",
       "      <td>0.666667</td>\n",
       "      <td>...</td>\n",
       "      <td>0.333333</td>\n",
       "      <td>0.000000</td>\n",
       "      <td>0.666667</td>\n",
       "      <td>0.333333</td>\n",
       "      <td>0.000000</td>\n",
       "      <td>0.000000</td>\n",
       "      <td>1.000000</td>\n",
       "      <td>0.0</td>\n",
       "      <td>0.666667</td>\n",
       "      <td>0.333333</td>\n",
       "    </tr>\n",
       "    <tr>\n",
       "      <th>997</th>\n",
       "      <td>0.000000</td>\n",
       "      <td>0.000000</td>\n",
       "      <td>0.000000</td>\n",
       "      <td>0.000000</td>\n",
       "      <td>0.000000</td>\n",
       "      <td>0.000000</td>\n",
       "      <td>0.000000</td>\n",
       "      <td>0.000000</td>\n",
       "      <td>0.000000</td>\n",
       "      <td>0.000000</td>\n",
       "      <td>...</td>\n",
       "      <td>0.000000</td>\n",
       "      <td>0.000000</td>\n",
       "      <td>0.000000</td>\n",
       "      <td>0.000000</td>\n",
       "      <td>0.000000</td>\n",
       "      <td>0.000000</td>\n",
       "      <td>0.000000</td>\n",
       "      <td>1.0</td>\n",
       "      <td>0.000000</td>\n",
       "      <td>0.000000</td>\n",
       "    </tr>\n",
       "    <tr>\n",
       "      <th>998</th>\n",
       "      <td>0.333333</td>\n",
       "      <td>0.000000</td>\n",
       "      <td>0.333333</td>\n",
       "      <td>0.666667</td>\n",
       "      <td>0.333333</td>\n",
       "      <td>0.000000</td>\n",
       "      <td>0.333333</td>\n",
       "      <td>0.666667</td>\n",
       "      <td>1.000000</td>\n",
       "      <td>1.000000</td>\n",
       "      <td>...</td>\n",
       "      <td>0.333333</td>\n",
       "      <td>0.000000</td>\n",
       "      <td>0.666667</td>\n",
       "      <td>0.333333</td>\n",
       "      <td>0.000000</td>\n",
       "      <td>0.333333</td>\n",
       "      <td>0.666667</td>\n",
       "      <td>0.0</td>\n",
       "      <td>1.000000</td>\n",
       "      <td>0.333333</td>\n",
       "    </tr>\n",
       "    <tr>\n",
       "      <th>999</th>\n",
       "      <td>0.333333</td>\n",
       "      <td>0.333333</td>\n",
       "      <td>0.333333</td>\n",
       "      <td>0.333333</td>\n",
       "      <td>0.666667</td>\n",
       "      <td>0.333333</td>\n",
       "      <td>0.666667</td>\n",
       "      <td>0.333333</td>\n",
       "      <td>0.333333</td>\n",
       "      <td>0.333333</td>\n",
       "      <td>...</td>\n",
       "      <td>0.000000</td>\n",
       "      <td>0.333333</td>\n",
       "      <td>0.666667</td>\n",
       "      <td>0.666667</td>\n",
       "      <td>0.333333</td>\n",
       "      <td>0.333333</td>\n",
       "      <td>0.333333</td>\n",
       "      <td>0.0</td>\n",
       "      <td>0.333333</td>\n",
       "      <td>1.000000</td>\n",
       "    </tr>\n",
       "  </tbody>\n",
       "</table>\n",
       "<p>1000 rows × 1000 columns</p>\n",
       "</div>"
      ],
      "text/plain": [
       "          0         1         2         3         4         5         6    \\\n",
       "0    1.000000  0.000000  0.333333  0.333333  0.333333  0.000000  0.333333   \n",
       "1    0.000000  1.000000  0.000000  0.000000  0.333333  0.333333  0.333333   \n",
       "2    0.333333  0.000000  1.000000  0.333333  0.333333  0.000000  0.333333   \n",
       "3    0.333333  0.000000  0.333333  1.000000  0.333333  0.000000  0.333333   \n",
       "4    0.333333  0.333333  0.333333  0.333333  1.000000  0.333333  0.666667   \n",
       "..        ...       ...       ...       ...       ...       ...       ...   \n",
       "995  0.000000  0.333333  0.000000  0.000000  0.333333  0.666667  0.333333   \n",
       "996  0.333333  0.333333  0.333333  0.666667  0.333333  0.000000  0.333333   \n",
       "997  0.000000  0.000000  0.000000  0.000000  0.000000  0.000000  0.000000   \n",
       "998  0.333333  0.000000  0.333333  0.666667  0.333333  0.000000  0.333333   \n",
       "999  0.333333  0.333333  0.333333  0.333333  0.666667  0.333333  0.666667   \n",
       "\n",
       "          7         8         9    ...       990       991       992  \\\n",
       "0    0.333333  0.333333  0.333333  ...  0.000000  0.000000  0.333333   \n",
       "1    0.000000  0.000000  0.000000  ...  0.000000  0.000000  0.000000   \n",
       "2    0.333333  0.333333  0.333333  ...  0.000000  0.000000  0.333333   \n",
       "3    0.666667  0.666667  0.666667  ...  0.333333  0.000000  0.666667   \n",
       "4    0.333333  0.333333  0.333333  ...  0.000000  0.000000  0.333333   \n",
       "..        ...       ...       ...  ...       ...       ...       ...   \n",
       "995  0.000000  0.333333  0.333333  ...  0.333333  0.333333  0.000000   \n",
       "996  0.666667  0.666667  0.666667  ...  0.333333  0.000000  0.666667   \n",
       "997  0.000000  0.000000  0.000000  ...  0.000000  0.000000  0.000000   \n",
       "998  0.666667  1.000000  1.000000  ...  0.333333  0.000000  0.666667   \n",
       "999  0.333333  0.333333  0.333333  ...  0.000000  0.333333  0.666667   \n",
       "\n",
       "          993       994       995       996  997       998       999  \n",
       "0    0.333333  0.000000  0.000000  0.333333  0.0  0.333333  0.333333  \n",
       "1    0.333333  0.666667  0.333333  0.333333  0.0  0.000000  0.333333  \n",
       "2    0.333333  0.000000  0.000000  0.333333  0.0  0.333333  0.333333  \n",
       "3    0.333333  0.000000  0.000000  0.666667  0.0  0.666667  0.333333  \n",
       "4    0.666667  0.333333  0.333333  0.333333  0.0  0.333333  0.666667  \n",
       "..        ...       ...       ...       ...  ...       ...       ...  \n",
       "995  0.333333  0.333333  1.000000  0.000000  0.0  0.333333  0.333333  \n",
       "996  0.333333  0.000000  0.000000  1.000000  0.0  0.666667  0.333333  \n",
       "997  0.000000  0.000000  0.000000  0.000000  1.0  0.000000  0.000000  \n",
       "998  0.333333  0.000000  0.333333  0.666667  0.0  1.000000  0.333333  \n",
       "999  0.666667  0.333333  0.333333  0.333333  0.0  0.333333  1.000000  \n",
       "\n",
       "[1000 rows x 1000 columns]"
      ]
     },
     "execution_count": 80,
     "metadata": {},
     "output_type": "execute_result"
    }
   ],
   "source": [
    "jaccard"
   ]
  },
  {
   "cell_type": "code",
   "execution_count": 86,
   "metadata": {},
   "outputs": [
    {
     "data": {
      "text/html": [
       "<div>\n",
       "<style scoped>\n",
       "    .dataframe tbody tr th:only-of-type {\n",
       "        vertical-align: middle;\n",
       "    }\n",
       "\n",
       "    .dataframe tbody tr th {\n",
       "        vertical-align: top;\n",
       "    }\n",
       "\n",
       "    .dataframe thead th {\n",
       "        text-align: right;\n",
       "    }\n",
       "</style>\n",
       "<table border=\"1\" class=\"dataframe\">\n",
       "  <thead>\n",
       "    <tr style=\"text-align: right;\">\n",
       "      <th></th>\n",
       "      <th>0</th>\n",
       "      <th>1</th>\n",
       "      <th>2</th>\n",
       "    </tr>\n",
       "  </thead>\n",
       "  <tbody>\n",
       "    <tr>\n",
       "      <th>0</th>\n",
       "      <td>1</td>\n",
       "      <td>0</td>\n",
       "      <td>0.000000</td>\n",
       "    </tr>\n",
       "    <tr>\n",
       "      <th>1</th>\n",
       "      <td>2</td>\n",
       "      <td>0</td>\n",
       "      <td>0.333333</td>\n",
       "    </tr>\n",
       "    <tr>\n",
       "      <th>2</th>\n",
       "      <td>2</td>\n",
       "      <td>1</td>\n",
       "      <td>0.000000</td>\n",
       "    </tr>\n",
       "    <tr>\n",
       "      <th>3</th>\n",
       "      <td>3</td>\n",
       "      <td>0</td>\n",
       "      <td>0.333333</td>\n",
       "    </tr>\n",
       "    <tr>\n",
       "      <th>4</th>\n",
       "      <td>3</td>\n",
       "      <td>1</td>\n",
       "      <td>0.000000</td>\n",
       "    </tr>\n",
       "    <tr>\n",
       "      <th>...</th>\n",
       "      <td>...</td>\n",
       "      <td>...</td>\n",
       "      <td>...</td>\n",
       "    </tr>\n",
       "    <tr>\n",
       "      <th>499495</th>\n",
       "      <td>999</td>\n",
       "      <td>994</td>\n",
       "      <td>0.333333</td>\n",
       "    </tr>\n",
       "    <tr>\n",
       "      <th>499496</th>\n",
       "      <td>999</td>\n",
       "      <td>995</td>\n",
       "      <td>0.333333</td>\n",
       "    </tr>\n",
       "    <tr>\n",
       "      <th>499497</th>\n",
       "      <td>999</td>\n",
       "      <td>996</td>\n",
       "      <td>0.333333</td>\n",
       "    </tr>\n",
       "    <tr>\n",
       "      <th>499498</th>\n",
       "      <td>999</td>\n",
       "      <td>997</td>\n",
       "      <td>0.000000</td>\n",
       "    </tr>\n",
       "    <tr>\n",
       "      <th>499499</th>\n",
       "      <td>999</td>\n",
       "      <td>998</td>\n",
       "      <td>0.333333</td>\n",
       "    </tr>\n",
       "  </tbody>\n",
       "</table>\n",
       "<p>499500 rows × 3 columns</p>\n",
       "</div>"
      ],
      "text/plain": [
       "          0    1         2\n",
       "0         1    0  0.000000\n",
       "1         2    0  0.333333\n",
       "2         2    1  0.000000\n",
       "3         3    0  0.333333\n",
       "4         3    1  0.000000\n",
       "...     ...  ...       ...\n",
       "499495  999  994  0.333333\n",
       "499496  999  995  0.333333\n",
       "499497  999  996  0.333333\n",
       "499498  999  997  0.000000\n",
       "499499  999  998  0.333333\n",
       "\n",
       "[499500 rows x 3 columns]"
      ]
     },
     "execution_count": 86,
     "metadata": {},
     "output_type": "execute_result"
    }
   ],
   "source": [
    "n = 1000\n",
    "columns = jaccard.columns\n",
    "indices = jaccard.index\n",
    "lists = []\n",
    "\n",
    "for i in range(1, n):\n",
    "    index = indices[i]\n",
    "    matr = jaccard[index][:i]\n",
    "    for j in range(i):\n",
    "        column = columns[j]\n",
    "        value = matr[column]\n",
    "        lst = [index, column, value]\n",
    "        lists.append(lst)\n",
    "\n",
    "df_jac = pd.DataFrame(lists)\n",
    "df_jac_df = df_jac.rename(columns={0:\"instance 1\", 1:\"instance 2\", 2:\"jaccard\"})\n",
    "df_jac"
   ]
  },
  {
   "cell_type": "code",
   "execution_count": 100,
   "metadata": {},
   "outputs": [],
   "source": [
    "same_outcome = 0\n",
    "diff_outcome = 0\n",
    "for index in range(0, len(df_jac)):\n",
    "    similarity = df_jac.iloc[index][2]\n",
    "    first_index = int(df_jac.iloc[index][0])\n",
    "    second_index = int(df_jac.iloc[index][1])\n",
    "    if similarity == 1.0:\n",
    "        if sampled.iloc[first_index]['contraband_found'] == sampled.iloc[second_index]['contraband_found']:\n",
    "            same_outcome = same_outcome + 1\n",
    "        else:\n",
    "            diff_outcome = diff_outcome + 1"
   ]
  },
  {
   "cell_type": "code",
   "execution_count": 101,
   "metadata": {},
   "outputs": [
    {
     "data": {
      "text/plain": [
       "(5773, 1029)"
      ]
     },
     "execution_count": 101,
     "metadata": {},
     "output_type": "execute_result"
    }
   ],
   "source": [
    "same_outcome, diff_outcome"
   ]
  },
  {
   "cell_type": "markdown",
   "metadata": {},
   "source": [
    "As we can see, out of the 6082 pairs that were considered similar, a thousand of them proved to be wrong, and over 5700 produced similar results from the similar categorical features. This is probably due to the low rate of frequency of the target variable, as contraband discovery rates are too low. Furthermore, there is potential reason in the dataset's features that they do not really describe how the police officers arrived at their decision. Only a few features indicate some aspects officers that may have been taken into consideration by the officers, but most of them are about what the actions taken by the officer was. So it is hard to produce a fair classifier for a target on the behavior of the driver."
   ]
  },
  {
   "cell_type": "markdown",
   "metadata": {},
   "source": [
    "## Intersectionality"
   ]
  },
  {
   "cell_type": "markdown",
   "metadata": {},
   "source": [
    "As previously shown in the first graph, we were able to observe from the data that searches on balck and hispanic drivers had lower rates of contraband found upon search when compared to white drivers. This meant that many more hispanic and black drivers had to go through unecessary searches. Thus, we will see if our classifier has made fair predictions for each racial group. Furthermore, We test the classifier for its accuracy on other racial and gender groups. For this analysis on intersectionality, we will take a look at the topic of search basis and its relationship with race and gender. This will be exploring if a type of search basis have a relationship with a subgroup. We will compare its itersectionality from the original dataset, and that from the predictions made by the classifier."
   ]
  },
  {
   "cell_type": "code",
   "execution_count": 53,
   "metadata": {},
   "outputs": [
    {
     "name": "stdout",
     "output_type": "stream",
     "text": [
      "\n",
      "\n",
      "\n",
      "\n",
      "\n",
      "\n"
     ]
    }
   ],
   "source": [
    "search_bases = np.array(['probable cause', 'other', 'consent', 'plain view', 'k9'])\n",
    "labels = np.array([])\n",
    "accs = np.array([])\n",
    "\n",
    "for race in races:\n",
    "    for sex in sexes:\n",
    "        label = race + \" \" + sex\n",
    "        labels = np.append(labels, label)\n",
    "        print()\n",
    "        row = np.array([])\n",
    "        for base in search_bases:\n",
    "            race_df = df.loc[df['subject_race'] == race]\n",
    "            sex_df = race_df.loc[race_df['subject_sex'] == sex]\n",
    "            base_df = sex_df.loc[sex_df['search_basis'] == base]\n",
    "            row_search, col_search = base_df.loc[base_df['search_conducted'] == True].shape\n",
    "            row_contra, col_contra = base_df.loc[base_df['contraband_found'] == True].shape\n",
    "            search_accuracy = 0\n",
    "            if row_contra != 0:\n",
    "                search_accuracy = row_contra / row_search\n",
    "            row = np.append(row, search_accuracy)\n",
    "        accs = np.append(accs, row)"
   ]
  },
  {
   "cell_type": "code",
   "execution_count": 57,
   "metadata": {},
   "outputs": [
    {
     "data": {
      "image/png": "[encoded data removed]",
      "text/plain": [
       "<Figure size 720x576 with 1 Axes>"
      ]
     },
     "metadata": {
      "needs_background": "light"
     },
     "output_type": "display_data"
    }
   ],
   "source": [
    "original_inter = pd.DataFrame(list(zip(search_bases, accs[0:5], accs[5:10], accs[10:15], accs[15:20], accs[20:25], accs[25:30])),\n",
    "columns = ['Search Basis', 'White Male Search Accuracy', 'White Female Search Accuracy', 'Black Male Search Accuracy', 'Black Female Search Accuracy', 'Hispanic Male Search Accuracy', 'Hispanic Female Search Accuracy'])\n",
    "\n",
    "plt.figure(figsize=(10, 8))\n",
    "\n",
    "plt.plot('Search Basis', 'White Male Search Accuracy', data=original_inter, marker='o', markerfacecolor='red', markersize=10, color='red', linewidth=4)\n",
    "plt.plot('Search Basis', 'White Female Search Accuracy', data=original_inter, marker='o', markerfacecolor='orange', markersize=10, color='orange', linewidth=4)\n",
    "plt.plot('Search Basis', 'Black Male Search Accuracy', data=original_inter, marker='o', markerfacecolor='green', markersize = 10, color='green', linewidth=4)\n",
    "plt.plot('Search Basis', 'Black Female Search Accuracy', data=original_inter, marker='o', markerfacecolor='blue', markersize=10, color='blue', linewidth=4)\n",
    "plt.plot('Search Basis', 'Hispanic Male Search Accuracy', data=original_inter, marker='o', markerfacecolor='yellow', markersize = 10, color='yellow', linewidth=4)\n",
    "plt.plot('Search Basis', 'Hispanic Female Search Accuracy', data=original_inter, marker='o', markerfacecolor='gray', markersize=10, color='gray', linewidth=4)\n",
    "\n",
    "plt.legend()\n",
    "plt.title('Search Accuracy by Search Basis (Original), Race, and Sex')\n",
    "plt.show()"
   ]
  },
  {
   "cell_type": "code",
   "execution_count": 24,
   "metadata": {},
   "outputs": [],
   "source": [
    "df['contraband_prediction'] = predictions"
   ]
  },
  {
   "cell_type": "code",
   "execution_count": 25,
   "metadata": {},
   "outputs": [
    {
     "name": "stdout",
     "output_type": "stream",
     "text": [
      "\n",
      "\n",
      "\n",
      "\n",
      "\n",
      "\n"
     ]
    }
   ],
   "source": [
    "search_bases = np.array(['probable cause', 'other', 'consent', 'plain view', 'k9'])\n",
    "labels = np.array([])\n",
    "sim_accs = np.array([])\n",
    "\n",
    "for race in races:\n",
    "    for sex in sexes:\n",
    "        label = race + \" \" + sex\n",
    "        labels = np.append(labels, label)\n",
    "        print()\n",
    "        row = np.array([])\n",
    "        for base in search_bases:\n",
    "            race_df = df.loc[df['subject_race'] == race]\n",
    "            sex_df = race_df.loc[race_df['subject_sex'] == sex]\n",
    "            base_df = sex_df.loc[sex_df['search_basis'] == base]\n",
    "            row_search, col_search = base_df.loc[base_df['search_conducted'] == True].shape\n",
    "            row_contra, col_contra = base_df.loc[base_df['contraband_prediction'] == True].shape\n",
    "            search_accuracy = 0\n",
    "            if row_contra != 0:\n",
    "                search_accuracy = row_contra / row_search\n",
    "            row = np.append(row, search_accuracy)\n",
    "        sim_accs = np.append(sim_accs, row)"
   ]
  },
  {
   "cell_type": "code",
   "execution_count": 63,
   "metadata": {},
   "outputs": [
    {
     "data": {
      "image/png": "[encoded data removed]",
      "text/plain": [
       "<Figure size 720x576 with 1 Axes>"
      ]
     },
     "metadata": {
      "needs_background": "light"
     },
     "output_type": "display_data"
    }
   ],
   "source": [
    "classifier_inter = pd.DataFrame(list(zip(search_bases, sim_accs[0:5], sim_accs[5:10], sim_accs[10:15], sim_accs[15:20], sim_accs[20:25], sim_accs[25:30])),\n",
    "columns = ['Search Basis', 'White Male Search Accuracy', 'White Female Search Accuracy', 'Black Male Search Accuracy', 'Black Female Search Accuracy', 'Hispanic Male Search Accuracy', 'Hispanic Female Search Accuracy'])\n",
    "\n",
    "plt.figure(figsize=(10, 8))\n",
    "\n",
    "plt.plot('Search Basis', 'White Male Search Accuracy', data=classifier_inter, marker='o', markerfacecolor='red', markersize=10, color='red', linewidth=4)\n",
    "plt.plot('Search Basis', 'White Female Search Accuracy', data=classifier_inter, marker='o', markerfacecolor='orange', markersize=10, color='orange', linewidth=4)\n",
    "plt.plot('Search Basis', 'Black Male Search Accuracy', data=classifier_inter, marker='o', markerfacecolor='green', markersize = 10, color='green', linewidth=4)\n",
    "plt.plot('Search Basis', 'Black Female Search Accuracy', data=classifier_inter, marker='o', markerfacecolor='blue', markersize=10, color='blue', linewidth=4)\n",
    "plt.plot('Search Basis', 'Hispanic Male Search Accuracy', data=classifier_inter, marker='o', markerfacecolor='yellow', markersize = 10, color='yellow', linewidth=4)\n",
    "plt.plot('Search Basis', 'Hispanic Female Search Accuracy', data=classifier_inter, marker='o', markerfacecolor='gray', markersize=10, color='gray', linewidth=4)\n",
    "\n",
    "plt.legend()\n",
    "plt.title('Search Accuracy by Search Basis (Prediction), Race, and Sex')\n",
    "plt.show()"
   ]
  },
  {
   "cell_type": "markdown",
   "metadata": {},
   "source": [
    "When looking at the intersectionality of search basis upon race and sex, it can easily be observed that most searches that are conducted on the basis of plain view, which is very subjective and may differ in standards among different police officers, is the most accurate in searches leading to contraband discoveries. However, we can clearly see the racial discrepancy in search accuracy between white drivers and the drivers of the other two races. It can be clearly seen that searches based on plain view on black males and females, and hispanic males show a significantly lower accuracy. (Please disregard the k9 search basis type as the data consists of no data points that have the k9 type.)\n",
    "\n",
    "From the results that predicted the contrabands by the classifier, we can easily observe that although the raical discrepancies in the search accuracies are clearn, the search accuracies based on plain view on black and hispanic drivers increased significantly upto approximately 0.6.\n",
    "\n",
    "One intereting tendency in sex that we found was that searches on female drivers tended to be more accurate, and only white drivers were the exception: as searches on white males still prove to be the most accurate in both reality and in preidictions."
   ]
  }
 ],
 "metadata": {
  "interpreter": {
   "hash": "db8a55c43c4eaecba5321df8392031e35bf915c50b79a3d11118413216e943c3"
  },
  "kernelspec": {
   "display_name": "Python 3.8.12 ('base')",
   "language": "python",
   "name": "python3"
  },
  "language_info": {
   "codemirror_mode": {
    "name": "ipython",
    "version": 3
   },
   "file_extension": ".py",
   "mimetype": "text/x-python",
   "name": "python",
   "nbconvert_exporter": "python",
   "pygments_lexer": "ipython3",
   "version": "3.8.12"
  },
  "orig_nbformat": 4
 },
 "nbformat": 4,
 "nbformat_minor": 2
}
